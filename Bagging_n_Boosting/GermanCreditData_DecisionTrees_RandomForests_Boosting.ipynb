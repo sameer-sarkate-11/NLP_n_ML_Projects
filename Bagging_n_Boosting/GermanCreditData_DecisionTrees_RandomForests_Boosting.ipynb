{
 "cells": [
  {
   "cell_type": "code",
   "execution_count": 1,
   "metadata": {},
   "outputs": [],
   "source": [
    "import numpy as np\n",
    "import pandas as pd"
   ]
  },
  {
   "cell_type": "code",
   "execution_count": 2,
   "metadata": {},
   "outputs": [
    {
     "name": "stdout",
     "output_type": "stream",
     "text": [
      "<class 'pandas.core.frame.DataFrame'>\n",
      "RangeIndex: 1000 entries, 0 to 999\n",
      "Data columns (total 14 columns):\n",
      "checkin_acc          1000 non-null object\n",
      "duration             1000 non-null int64\n",
      "credit_history       1000 non-null object\n",
      "amount               1000 non-null int64\n",
      "savings_acc          1000 non-null object\n",
      "present_emp_since    1000 non-null object\n",
      "inst_rate            1000 non-null int64\n",
      "personal_status      1000 non-null object\n",
      "residing_since       1000 non-null int64\n",
      "age                  1000 non-null int64\n",
      "inst_plans           1000 non-null object\n",
      "num_credits          1000 non-null int64\n",
      "job                  1000 non-null object\n",
      "status               1000 non-null int64\n",
      "dtypes: int64(7), object(7)\n",
      "memory usage: 109.5+ KB\n"
     ]
    }
   ],
   "source": [
    "credit_df = pd.read_csv('German Credit Data.csv')\n",
    "credit_df.info()\n",
    "\n",
    "# https://archive.ics.uci.edu/ml/datasets/Statlog+%28German+Credit+Data%29"
   ]
  },
  {
   "cell_type": "code",
   "execution_count": 3,
   "metadata": {},
   "outputs": [
    {
     "data": {
      "text/html": [
       "<div>\n",
       "<style scoped>\n",
       "    .dataframe tbody tr th:only-of-type {\n",
       "        vertical-align: middle;\n",
       "    }\n",
       "\n",
       "    .dataframe tbody tr th {\n",
       "        vertical-align: top;\n",
       "    }\n",
       "\n",
       "    .dataframe thead th {\n",
       "        text-align: right;\n",
       "    }\n",
       "</style>\n",
       "<table border=\"1\" class=\"dataframe\">\n",
       "  <thead>\n",
       "    <tr style=\"text-align: right;\">\n",
       "      <th></th>\n",
       "      <th>checkin_acc</th>\n",
       "      <th>duration</th>\n",
       "      <th>credit_history</th>\n",
       "      <th>amount</th>\n",
       "      <th>savings_acc</th>\n",
       "      <th>present_emp_since</th>\n",
       "      <th>inst_rate</th>\n",
       "    </tr>\n",
       "  </thead>\n",
       "  <tbody>\n",
       "    <tr>\n",
       "      <td>0</td>\n",
       "      <td>A11</td>\n",
       "      <td>6</td>\n",
       "      <td>A34</td>\n",
       "      <td>1169</td>\n",
       "      <td>A65</td>\n",
       "      <td>A75</td>\n",
       "      <td>4</td>\n",
       "    </tr>\n",
       "    <tr>\n",
       "      <td>1</td>\n",
       "      <td>A12</td>\n",
       "      <td>48</td>\n",
       "      <td>A32</td>\n",
       "      <td>5951</td>\n",
       "      <td>A61</td>\n",
       "      <td>A73</td>\n",
       "      <td>2</td>\n",
       "    </tr>\n",
       "    <tr>\n",
       "      <td>2</td>\n",
       "      <td>A14</td>\n",
       "      <td>12</td>\n",
       "      <td>A34</td>\n",
       "      <td>2096</td>\n",
       "      <td>A61</td>\n",
       "      <td>A74</td>\n",
       "      <td>2</td>\n",
       "    </tr>\n",
       "    <tr>\n",
       "      <td>3</td>\n",
       "      <td>A11</td>\n",
       "      <td>42</td>\n",
       "      <td>A32</td>\n",
       "      <td>7882</td>\n",
       "      <td>A61</td>\n",
       "      <td>A74</td>\n",
       "      <td>2</td>\n",
       "    </tr>\n",
       "    <tr>\n",
       "      <td>4</td>\n",
       "      <td>A11</td>\n",
       "      <td>24</td>\n",
       "      <td>A33</td>\n",
       "      <td>4870</td>\n",
       "      <td>A61</td>\n",
       "      <td>A73</td>\n",
       "      <td>3</td>\n",
       "    </tr>\n",
       "  </tbody>\n",
       "</table>\n",
       "</div>"
      ],
      "text/plain": [
       "  checkin_acc  duration credit_history  amount savings_acc present_emp_since  \\\n",
       "0         A11         6            A34    1169         A65               A75   \n",
       "1         A12        48            A32    5951         A61               A73   \n",
       "2         A14        12            A34    2096         A61               A74   \n",
       "3         A11        42            A32    7882         A61               A74   \n",
       "4         A11        24            A33    4870         A61               A73   \n",
       "\n",
       "   inst_rate  \n",
       "0          4  \n",
       "1          2  \n",
       "2          2  \n",
       "3          2  \n",
       "4          3  "
      ]
     },
     "execution_count": 3,
     "metadata": {},
     "output_type": "execute_result"
    }
   ],
   "source": [
    "credit_df.iloc[0:5,0:7]"
   ]
  },
  {
   "cell_type": "code",
   "execution_count": 4,
   "metadata": {},
   "outputs": [
    {
     "data": {
      "text/html": [
       "<div>\n",
       "<style scoped>\n",
       "    .dataframe tbody tr th:only-of-type {\n",
       "        vertical-align: middle;\n",
       "    }\n",
       "\n",
       "    .dataframe tbody tr th {\n",
       "        vertical-align: top;\n",
       "    }\n",
       "\n",
       "    .dataframe thead th {\n",
       "        text-align: right;\n",
       "    }\n",
       "</style>\n",
       "<table border=\"1\" class=\"dataframe\">\n",
       "  <thead>\n",
       "    <tr style=\"text-align: right;\">\n",
       "      <th></th>\n",
       "      <th>personal_status</th>\n",
       "      <th>residing_since</th>\n",
       "      <th>age</th>\n",
       "      <th>inst_plans</th>\n",
       "      <th>num_credits</th>\n",
       "      <th>job</th>\n",
       "      <th>status</th>\n",
       "    </tr>\n",
       "  </thead>\n",
       "  <tbody>\n",
       "    <tr>\n",
       "      <td>0</td>\n",
       "      <td>A93</td>\n",
       "      <td>4</td>\n",
       "      <td>67</td>\n",
       "      <td>A143</td>\n",
       "      <td>2</td>\n",
       "      <td>A173</td>\n",
       "      <td>0</td>\n",
       "    </tr>\n",
       "    <tr>\n",
       "      <td>1</td>\n",
       "      <td>A92</td>\n",
       "      <td>2</td>\n",
       "      <td>22</td>\n",
       "      <td>A143</td>\n",
       "      <td>1</td>\n",
       "      <td>A173</td>\n",
       "      <td>1</td>\n",
       "    </tr>\n",
       "    <tr>\n",
       "      <td>2</td>\n",
       "      <td>A93</td>\n",
       "      <td>3</td>\n",
       "      <td>49</td>\n",
       "      <td>A143</td>\n",
       "      <td>1</td>\n",
       "      <td>A172</td>\n",
       "      <td>0</td>\n",
       "    </tr>\n",
       "    <tr>\n",
       "      <td>3</td>\n",
       "      <td>A93</td>\n",
       "      <td>4</td>\n",
       "      <td>45</td>\n",
       "      <td>A143</td>\n",
       "      <td>1</td>\n",
       "      <td>A173</td>\n",
       "      <td>0</td>\n",
       "    </tr>\n",
       "    <tr>\n",
       "      <td>4</td>\n",
       "      <td>A93</td>\n",
       "      <td>4</td>\n",
       "      <td>53</td>\n",
       "      <td>A143</td>\n",
       "      <td>2</td>\n",
       "      <td>A173</td>\n",
       "      <td>1</td>\n",
       "    </tr>\n",
       "  </tbody>\n",
       "</table>\n",
       "</div>"
      ],
      "text/plain": [
       "  personal_status  residing_since  age inst_plans  num_credits   job  status\n",
       "0             A93               4   67       A143            2  A173       0\n",
       "1             A92               2   22       A143            1  A173       1\n",
       "2             A93               3   49       A143            1  A172       0\n",
       "3             A93               4   45       A143            1  A173       0\n",
       "4             A93               4   53       A143            2  A173       1"
      ]
     },
     "execution_count": 4,
     "metadata": {},
     "output_type": "execute_result"
    }
   ],
   "source": [
    "credit_df.iloc[0:5,7:]"
   ]
  },
  {
   "cell_type": "code",
   "execution_count": 5,
   "metadata": {},
   "outputs": [
    {
     "data": {
      "text/plain": [
       "0    700\n",
       "1    300\n",
       "Name: status, dtype: int64"
      ]
     },
     "execution_count": 5,
     "metadata": {},
     "output_type": "execute_result"
    }
   ],
   "source": [
    "credit_df['status'].value_counts()\n",
    "\n",
    "# 0 Good credit, 1 bad credit"
   ]
  },
  {
   "cell_type": "code",
   "execution_count": 6,
   "metadata": {},
   "outputs": [
    {
     "data": {
      "text/plain": [
       "['checkin_acc',\n",
       " 'duration',\n",
       " 'credit_history',\n",
       " 'amount',\n",
       " 'savings_acc',\n",
       " 'present_emp_since',\n",
       " 'inst_rate',\n",
       " 'personal_status',\n",
       " 'residing_since',\n",
       " 'age',\n",
       " 'inst_plans',\n",
       " 'num_credits',\n",
       " 'job']"
      ]
     },
     "execution_count": 6,
     "metadata": {},
     "output_type": "execute_result"
    }
   ],
   "source": [
    "X_features = list(credit_df.columns)\n",
    "X_features.remove('status')\n",
    "X_features"
   ]
  },
  {
   "cell_type": "code",
   "execution_count": 7,
   "metadata": {},
   "outputs": [],
   "source": [
    "encoded_credit_df = pd.get_dummies(credit_df[X_features], drop_first = True)"
   ]
  },
  {
   "cell_type": "code",
   "execution_count": 8,
   "metadata": {},
   "outputs": [
    {
     "data": {
      "text/plain": [
       "['duration',\n",
       " 'amount',\n",
       " 'inst_rate',\n",
       " 'residing_since',\n",
       " 'age',\n",
       " 'num_credits',\n",
       " 'checkin_acc_A12',\n",
       " 'checkin_acc_A13',\n",
       " 'checkin_acc_A14',\n",
       " 'credit_history_A31',\n",
       " 'credit_history_A32',\n",
       " 'credit_history_A33',\n",
       " 'credit_history_A34',\n",
       " 'savings_acc_A62',\n",
       " 'savings_acc_A63',\n",
       " 'savings_acc_A64',\n",
       " 'savings_acc_A65',\n",
       " 'present_emp_since_A72',\n",
       " 'present_emp_since_A73',\n",
       " 'present_emp_since_A74',\n",
       " 'present_emp_since_A75',\n",
       " 'personal_status_A92',\n",
       " 'personal_status_A93',\n",
       " 'personal_status_A94',\n",
       " 'inst_plans_A142',\n",
       " 'inst_plans_A143',\n",
       " 'job_A172',\n",
       " 'job_A173',\n",
       " 'job_A174']"
      ]
     },
     "execution_count": 8,
     "metadata": {},
     "output_type": "execute_result"
    }
   ],
   "source": [
    "list(encoded_credit_df.columns)"
   ]
  },
  {
   "cell_type": "code",
   "execution_count": 9,
   "metadata": {},
   "outputs": [],
   "source": [
    "X = encoded_credit_df\n",
    "y = credit_df['status']"
   ]
  },
  {
   "cell_type": "code",
   "execution_count": 10,
   "metadata": {},
   "outputs": [],
   "source": [
    "from sklearn.model_selection import train_test_split\n",
    "\n",
    "X_train, X_test, y_train, y_test = train_test_split(X, y, test_size = 0.3, random_state = 42)"
   ]
  },
  {
   "cell_type": "code",
   "execution_count": 11,
   "metadata": {},
   "outputs": [],
   "source": [
    "from sklearn.tree import DecisionTreeClassifier\n",
    "\n",
    "# criterion to gini, max_depth to 3  \n",
    "# defaul values for other parameters.\n",
    "\n",
    "modelDT = DecisionTreeClassifier(criterion = 'gini', max_depth = 3)"
   ]
  },
  {
   "cell_type": "code",
   "execution_count": 12,
   "metadata": {},
   "outputs": [
    {
     "data": {
      "text/plain": [
       "DecisionTreeClassifier(max_depth=3)"
      ]
     },
     "execution_count": 12,
     "metadata": {},
     "output_type": "execute_result"
    }
   ],
   "source": [
    "modelDT.fit(X_train, y_train )"
   ]
  },
  {
   "cell_type": "markdown",
   "metadata": {},
   "source": [
    "### Measuring Test Accuracy"
   ]
  },
  {
   "cell_type": "code",
   "execution_count": 13,
   "metadata": {},
   "outputs": [],
   "source": [
    "y_pred = modelDT.predict(X_test)"
   ]
  },
  {
   "cell_type": "code",
   "execution_count": 14,
   "metadata": {},
   "outputs": [
    {
     "name": "stdout",
     "output_type": "stream",
     "text": [
      "0.5835743204164258\n",
      "0.7266666666666667\n"
     ]
    }
   ],
   "source": [
    "from sklearn import metrics\n",
    "print(metrics.roc_auc_score(y_test, y_pred))\n",
    "print(metrics.accuracy_score(y_test, y_pred))"
   ]
  },
  {
   "cell_type": "markdown",
   "metadata": {},
   "source": [
    "### Displaying the Tree"
   ]
  },
  {
   "cell_type": "code",
   "execution_count": 15,
   "metadata": {},
   "outputs": [],
   "source": [
    "from sklearn import tree\n",
    "import matplotlib.pyplot as plt"
   ]
  },
  {
   "cell_type": "code",
   "execution_count": 16,
   "metadata": {},
   "outputs": [
    {
     "data": {
      "image/png": "[encoded data removed]",
      "text/plain": [
       "<Figure size 1800x1440 with 1 Axes>"
      ]
     },
     "metadata": {
      "needs_background": "light"
     },
     "output_type": "display_data"
    }
   ],
   "source": [
    "fig = plt.figure(figsize=(25,20))\n",
    "\n",
    "_ = tree.plot_tree(modelDT,feature_names=X_train.columns,\n",
    "                   filled=True)"
   ]
  },
  {
   "cell_type": "code",
   "execution_count": 17,
   "metadata": {},
   "outputs": [
    {
     "data": {
      "text/plain": [
       "GridSearchCV(cv=10, estimator=DecisionTreeClassifier(),\n",
       "             param_grid=[{'criterion': ['gini', 'entropy'],\n",
       "                          'max_depth': range(2, 10)}],\n",
       "             scoring='roc_auc')"
      ]
     },
     "execution_count": 17,
     "metadata": {},
     "output_type": "execute_result"
    }
   ],
   "source": [
    "from sklearn.model_selection import GridSearchCV\n",
    "\n",
    "param = [{'criterion': ['gini','entropy'], 'max_depth': range(2,10)}]\n",
    "\n",
    "model = DecisionTreeClassifier()\n",
    "\n",
    "modelCV = GridSearchCV(model, param, cv=10, scoring = 'roc_auc')\n",
    "\n",
    "modelCV.fit(X_train, y_train)"
   ]
  },
  {
   "cell_type": "code",
   "execution_count": 18,
   "metadata": {},
   "outputs": [
    {
     "data": {
      "text/plain": [
       "0.6830090864917396"
      ]
     },
     "execution_count": 18,
     "metadata": {},
     "output_type": "execute_result"
    }
   ],
   "source": [
    "modelCV.best_score_"
   ]
  },
  {
   "cell_type": "code",
   "execution_count": 19,
   "metadata": {},
   "outputs": [
    {
     "data": {
      "text/plain": [
       "{'criterion': 'gini', 'max_depth': 4}"
      ]
     },
     "execution_count": 19,
     "metadata": {},
     "output_type": "execute_result"
    }
   ],
   "source": [
    "modelCV.best_params_"
   ]
  },
  {
   "cell_type": "markdown",
   "metadata": {},
   "source": [
    "### Performance Measures - Decision Tree"
   ]
  },
  {
   "cell_type": "code",
   "execution_count": 20,
   "metadata": {},
   "outputs": [],
   "source": [
    "pred_y = modelCV.predict(X_test)"
   ]
  },
  {
   "cell_type": "code",
   "execution_count": 21,
   "metadata": {},
   "outputs": [
    {
     "name": "stdout",
     "output_type": "stream",
     "text": [
      "[[186  23]\n",
      " [ 68  23]]\n"
     ]
    }
   ],
   "source": [
    "print(metrics.confusion_matrix(y_test,pred_y))"
   ]
  },
  {
   "cell_type": "code",
   "execution_count": 22,
   "metadata": {},
   "outputs": [
    {
     "name": "stdout",
     "output_type": "stream",
     "text": [
      "              precision    recall  f1-score   support\n",
      "\n",
      "           0       0.73      0.89      0.80       209\n",
      "           1       0.50      0.25      0.34        91\n",
      "\n",
      "    accuracy                           0.70       300\n",
      "   macro avg       0.62      0.57      0.57       300\n",
      "weighted avg       0.66      0.70      0.66       300\n",
      "\n"
     ]
    }
   ],
   "source": [
    "print(metrics.classification_report(y_test, pred_y))"
   ]
  },
  {
   "cell_type": "code",
   "execution_count": 23,
   "metadata": {},
   "outputs": [
    {
     "data": {
      "text/plain": [
       "0.7093432882906567"
      ]
     },
     "execution_count": 23,
     "metadata": {},
     "output_type": "execute_result"
    }
   ],
   "source": [
    "auc = metrics.roc_auc_score(y_test, modelCV.predict_proba(X_test)[:,1])\n",
    "auc"
   ]
  },
  {
   "cell_type": "markdown",
   "metadata": {},
   "source": [
    "### Random Forests"
   ]
  },
  {
   "cell_type": "code",
   "execution_count": 24,
   "metadata": {},
   "outputs": [],
   "source": [
    "no_of_features = len(X_train.columns)"
   ]
  },
  {
   "cell_type": "code",
   "execution_count": 25,
   "metadata": {},
   "outputs": [
    {
     "data": {
      "text/plain": [
       "4"
      ]
     },
     "execution_count": 25,
     "metadata": {},
     "output_type": "execute_result"
    }
   ],
   "source": [
    "depth = int(np.log2(no_of_features))\n",
    "depth"
   ]
  },
  {
   "cell_type": "code",
   "execution_count": 26,
   "metadata": {},
   "outputs": [
    {
     "data": {
      "text/plain": [
       "RandomForestClassifier(max_depth=4, random_state=101)"
      ]
     },
     "execution_count": 26,
     "metadata": {},
     "output_type": "execute_result"
    }
   ],
   "source": [
    "## Importing Random Forest Classifier from the sklearn.ensemble\n",
    "\n",
    "from sklearn.ensemble import RandomForestClassifier\n",
    "\n",
    "## Initializing the Random Forest Classifier with max_dept and\n",
    "\n",
    "## n_estimators\n",
    "\n",
    "modelRF = RandomForestClassifier(max_depth=depth, n_estimators=100, random_state=101)\n",
    "\n",
    "# max_depth - log2(no. of features), log()\n",
    "\n",
    "modelRF.fit(X_train, y_train)"
   ]
  },
  {
   "cell_type": "code",
   "execution_count": 27,
   "metadata": {},
   "outputs": [
    {
     "data": {
      "text/plain": [
       "0.7701246122298755"
      ]
     },
     "execution_count": 27,
     "metadata": {},
     "output_type": "execute_result"
    }
   ],
   "source": [
    "auc = metrics.roc_auc_score(y_test, modelRF.predict_proba(X_test)[:,1])\n",
    "auc"
   ]
  },
  {
   "cell_type": "markdown",
   "metadata": {},
   "source": [
    "### Grid Search"
   ]
  },
  {
   "cell_type": "code",
   "execution_count": 28,
   "metadata": {},
   "outputs": [
    {
     "data": {
      "text/plain": [
       "GridSearchCV(cv=10, estimator=RandomForestClassifier(random_state=101),\n",
       "             param_grid=[{'max_depth': [5, 10, 15],\n",
       "                          'max_features': ['sqrt', 0.2, 0.3, 0.5],\n",
       "                          'n_estimators': [50, 100, 150]}],\n",
       "             scoring='roc_auc')"
      ]
     },
     "execution_count": 28,
     "metadata": {},
     "output_type": "execute_result"
    }
   ],
   "source": [
    "## Configuring parameters and values for searched\n",
    "\n",
    "params = [{'max_depth': [5, 10, 15], 'n_estimators': [50, 100, 150],\n",
    "           'max_features': ['sqrt', 0.2, .3, .5]}]\n",
    "\n",
    "# square root of number of features in the dataset\n",
    "# 20%, 30%, 50% of the total no. of features\n",
    "## Initializing the RF classifier\n",
    "\n",
    "modelRF = RandomForestClassifier(random_state=101)\n",
    "\n",
    "## Configuring search with the tunable parameters\n",
    "\n",
    "modelCV = GridSearchCV(modelRF, params, cv=10, scoring='roc_auc')\n",
    "\n",
    "## Fitting the training set\n",
    "\n",
    "modelCV.fit(X_train, y_train)"
   ]
  },
  {
   "cell_type": "code",
   "execution_count": 29,
   "metadata": {},
   "outputs": [
    {
     "data": {
      "text/plain": [
       "0.7557102040816326"
      ]
     },
     "execution_count": 29,
     "metadata": {},
     "output_type": "execute_result"
    }
   ],
   "source": [
    "modelCV.best_score_"
   ]
  },
  {
   "cell_type": "code",
   "execution_count": 30,
   "metadata": {},
   "outputs": [
    {
     "data": {
      "text/plain": [
       "{'max_depth': 10, 'max_features': 0.3, 'n_estimators': 150}"
      ]
     },
     "execution_count": 30,
     "metadata": {},
     "output_type": "execute_result"
    }
   ],
   "source": [
    "modelCV.best_params_"
   ]
  },
  {
   "cell_type": "markdown",
   "metadata": {},
   "source": [
    "### Building the model with best params"
   ]
  },
  {
   "cell_type": "code",
   "execution_count": 31,
   "metadata": {},
   "outputs": [
    {
     "data": {
      "text/plain": [
       "RandomForestClassifier(max_depth=10, max_features=0.3, n_estimators=150,\n",
       "                       oob_score=True, random_state=101)"
      ]
     },
     "execution_count": 31,
     "metadata": {},
     "output_type": "execute_result"
    }
   ],
   "source": [
    "## Initializing the Random Forest Model with the optimal values\n",
    "\n",
    "model_bp = RandomForestClassifier(max_depth= 10, n_estimators=150, \n",
    "                                  max_features = .3, oob_score=True, \n",
    "                                  random_state=101)\n",
    "\n",
    "## Fitting the model with the training set\n",
    "# oob_score=True\n",
    "# class balanced\n",
    "\n",
    "model_bp.fit(X_train, y_train)"
   ]
  },
  {
   "cell_type": "code",
   "execution_count": 32,
   "metadata": {},
   "outputs": [
    {
     "data": {
      "text/plain": [
       "0.7703875072296125"
      ]
     },
     "execution_count": 32,
     "metadata": {},
     "output_type": "execute_result"
    }
   ],
   "source": [
    "metrics.roc_auc_score(y_test, model_bp.predict_proba(X_test)[:,1])"
   ]
  },
  {
   "cell_type": "markdown",
   "metadata": {},
   "source": [
    "### Performance Metrics - Random Forests"
   ]
  },
  {
   "cell_type": "code",
   "execution_count": 33,
   "metadata": {},
   "outputs": [],
   "source": [
    "pred_y = model_bp.predict(X_test)"
   ]
  },
  {
   "cell_type": "code",
   "execution_count": 34,
   "metadata": {},
   "outputs": [],
   "source": [
    "from sklearn.metrics import classification_report, confusion_matrix\n",
    "from sklearn import metrics"
   ]
  },
  {
   "cell_type": "code",
   "execution_count": 35,
   "metadata": {},
   "outputs": [
    {
     "name": "stdout",
     "output_type": "stream",
     "text": [
      "[[195  14]\n",
      " [ 62  29]]\n"
     ]
    }
   ],
   "source": [
    "print(confusion_matrix(y_test,pred_y))"
   ]
  },
  {
   "cell_type": "code",
   "execution_count": 36,
   "metadata": {},
   "outputs": [
    {
     "name": "stdout",
     "output_type": "stream",
     "text": [
      "              precision    recall  f1-score   support\n",
      "\n",
      "           0       0.76      0.93      0.84       209\n",
      "           1       0.67      0.32      0.43        91\n",
      "\n",
      "    accuracy                           0.75       300\n",
      "   macro avg       0.72      0.63      0.63       300\n",
      "weighted avg       0.73      0.75      0.71       300\n",
      "\n"
     ]
    }
   ],
   "source": [
    "print(metrics.classification_report(y_test, pred_y))"
   ]
  },
  {
   "cell_type": "code",
   "execution_count": 37,
   "metadata": {},
   "outputs": [
    {
     "data": {
      "text/plain": [
       "0.75"
      ]
     },
     "execution_count": 37,
     "metadata": {},
     "output_type": "execute_result"
    }
   ],
   "source": [
    "model_bp.oob_score_"
   ]
  },
  {
   "cell_type": "markdown",
   "metadata": {},
   "source": [
    "### Drawing the RoC curve"
   ]
  },
  {
   "cell_type": "code",
   "execution_count": 38,
   "metadata": {},
   "outputs": [],
   "source": [
    "from sklearn import metrics\n",
    "import matplotlib.pyplot as plt"
   ]
  },
  {
   "cell_type": "code",
   "execution_count": 39,
   "metadata": {},
   "outputs": [],
   "source": [
    "fpr, tpr, thresholds = metrics.roc_curve(y_test, model_bp.predict_proba(X_test)[:,1])"
   ]
  },
  {
   "cell_type": "code",
   "execution_count": 40,
   "metadata": {},
   "outputs": [],
   "source": [
    "roc_auc = metrics.auc(fpr, tpr)"
   ]
  },
  {
   "cell_type": "code",
   "execution_count": 41,
   "metadata": {},
   "outputs": [
    {
     "data": {
      "image/png": "[encoded data removed]",
      "text/plain": [
       "<Figure size 432x288 with 1 Axes>"
      ]
     },
     "metadata": {
      "needs_background": "light"
     },
     "output_type": "display_data"
    }
   ],
   "source": [
    "display = metrics.RocCurveDisplay(fpr=fpr, tpr=tpr, roc_auc=roc_auc,\n",
    "                                  estimator_name='RF')\n",
    "display.plot()\n",
    "plt.show()"
   ]
  },
  {
   "cell_type": "markdown",
   "metadata": {},
   "source": [
    "### Feature Importance"
   ]
  },
  {
   "cell_type": "code",
   "execution_count": 42,
   "metadata": {},
   "outputs": [],
   "source": [
    "import numpy as np\n",
    "import seaborn as sn\n",
    "# Create a dataframe to store the features and their corresponding\n",
    "# importances\n",
    "\n",
    "feature_rank = pd.DataFrame({'feature': X_train.columns, 'importance': model_bp.feature_importances_})"
   ]
  },
  {
   "cell_type": "code",
   "execution_count": 43,
   "metadata": {},
   "outputs": [],
   "source": [
    "## Sorting the features based on their importances with most\n",
    "## important feature at top.\n",
    "\n",
    "feature_rank = feature_rank.sort_values('importance', ascending = False)"
   ]
  },
  {
   "cell_type": "code",
   "execution_count": 44,
   "metadata": {},
   "outputs": [
    {
     "data": {
      "image/png": "[encoded data removed]",
      "text/plain": [
       "<Figure size 576x432 with 1 Axes>"
      ]
     },
     "metadata": {
      "needs_background": "light"
     },
     "output_type": "display_data"
    }
   ],
   "source": [
    "plt.figure(figsize=(8, 6))\n",
    "\n",
    "# plot the values\n",
    "\n",
    "sn.barplot(y = 'feature', x = 'importance', data = feature_rank);"
   ]
  },
  {
   "cell_type": "code",
   "execution_count": 45,
   "metadata": {},
   "outputs": [
    {
     "data": {
      "text/html": [
       "<div>\n",
       "<style scoped>\n",
       "    .dataframe tbody tr th:only-of-type {\n",
       "        vertical-align: middle;\n",
       "    }\n",
       "\n",
       "    .dataframe tbody tr th {\n",
       "        vertical-align: top;\n",
       "    }\n",
       "\n",
       "    .dataframe thead th {\n",
       "        text-align: right;\n",
       "    }\n",
       "</style>\n",
       "<table border=\"1\" class=\"dataframe\">\n",
       "  <thead>\n",
       "    <tr style=\"text-align: right;\">\n",
       "      <th></th>\n",
       "      <th>feature</th>\n",
       "      <th>importance</th>\n",
       "      <th>cumsum</th>\n",
       "    </tr>\n",
       "  </thead>\n",
       "  <tbody>\n",
       "    <tr>\n",
       "      <td>1</td>\n",
       "      <td>amount</td>\n",
       "      <td>0.180274</td>\n",
       "      <td>18.027427</td>\n",
       "    </tr>\n",
       "    <tr>\n",
       "      <td>4</td>\n",
       "      <td>age</td>\n",
       "      <td>0.127211</td>\n",
       "      <td>30.748490</td>\n",
       "    </tr>\n",
       "    <tr>\n",
       "      <td>0</td>\n",
       "      <td>duration</td>\n",
       "      <td>0.110383</td>\n",
       "      <td>41.786748</td>\n",
       "    </tr>\n",
       "    <tr>\n",
       "      <td>8</td>\n",
       "      <td>checkin_acc_A14</td>\n",
       "      <td>0.090499</td>\n",
       "      <td>50.836698</td>\n",
       "    </tr>\n",
       "    <tr>\n",
       "      <td>2</td>\n",
       "      <td>inst_rate</td>\n",
       "      <td>0.044287</td>\n",
       "      <td>55.265374</td>\n",
       "    </tr>\n",
       "    <tr>\n",
       "      <td>3</td>\n",
       "      <td>residing_since</td>\n",
       "      <td>0.042421</td>\n",
       "      <td>59.507446</td>\n",
       "    </tr>\n",
       "    <tr>\n",
       "      <td>12</td>\n",
       "      <td>credit_history_A34</td>\n",
       "      <td>0.038151</td>\n",
       "      <td>63.322569</td>\n",
       "    </tr>\n",
       "    <tr>\n",
       "      <td>25</td>\n",
       "      <td>inst_plans_A143</td>\n",
       "      <td>0.026428</td>\n",
       "      <td>65.965382</td>\n",
       "    </tr>\n",
       "    <tr>\n",
       "      <td>5</td>\n",
       "      <td>num_credits</td>\n",
       "      <td>0.024940</td>\n",
       "      <td>68.459369</td>\n",
       "    </tr>\n",
       "    <tr>\n",
       "      <td>16</td>\n",
       "      <td>savings_acc_A65</td>\n",
       "      <td>0.023955</td>\n",
       "      <td>70.854881</td>\n",
       "    </tr>\n",
       "  </tbody>\n",
       "</table>\n",
       "</div>"
      ],
      "text/plain": [
       "               feature  importance     cumsum\n",
       "1               amount    0.180274  18.027427\n",
       "4                  age    0.127211  30.748490\n",
       "0             duration    0.110383  41.786748\n",
       "8      checkin_acc_A14    0.090499  50.836698\n",
       "2            inst_rate    0.044287  55.265374\n",
       "3       residing_since    0.042421  59.507446\n",
       "12  credit_history_A34    0.038151  63.322569\n",
       "25     inst_plans_A143    0.026428  65.965382\n",
       "5          num_credits    0.024940  68.459369\n",
       "16     savings_acc_A65    0.023955  70.854881"
      ]
     },
     "execution_count": 45,
     "metadata": {},
     "output_type": "execute_result"
    }
   ],
   "source": [
    "feature_rank['cumsum'] = feature_rank['importance'].cumsum() * 100\n",
    "feature_rank.head(10)"
   ]
  },
  {
   "cell_type": "markdown",
   "metadata": {},
   "source": [
    "### AdaBoost"
   ]
  },
  {
   "cell_type": "code",
   "execution_count": 70,
   "metadata": {},
   "outputs": [
    {
     "data": {
      "text/plain": [
       "AdaBoostClassifier(base_estimator=DecisionTreeClassifier(max_depth=10),\n",
       "                   n_estimators=200, random_state=101)"
      ]
     },
     "execution_count": 70,
     "metadata": {},
     "output_type": "execute_result"
    }
   ],
   "source": [
    "## Importing AdaBoost classifier\n",
    "\n",
    "\n",
    "from sklearn.ensemble import AdaBoostClassifier\n",
    "\n",
    "## Initializing Decision Tree Classifier to use as base classifier\n",
    "\n",
    "dt_base_model = DecisionTreeClassifier()\n",
    "\n",
    "# Initializing AdaBoost classifier with 200 classifers\n",
    "\n",
    "ada_model = AdaBoostClassifier(dt_base_model, n_estimators=200, random_state=101)\n",
    "\n",
    "# Fitting AdaBoost model to training set\n",
    "\n",
    "ada_model.fit(X_train, y_train)"
   ]
  },
  {
   "cell_type": "markdown",
   "metadata": {},
   "source": [
    "### Performance Measures - AdaBoost"
   ]
  },
  {
   "cell_type": "code",
   "execution_count": 71,
   "metadata": {},
   "outputs": [],
   "source": [
    "pred_y = ada_model.predict(X_test)"
   ]
  },
  {
   "cell_type": "code",
   "execution_count": 72,
   "metadata": {},
   "outputs": [
    {
     "name": "stdout",
     "output_type": "stream",
     "text": [
      "[[189  20]\n",
      " [ 58  33]]\n"
     ]
    }
   ],
   "source": [
    "print(confusion_matrix(y_test,pred_y))"
   ]
  },
  {
   "cell_type": "code",
   "execution_count": 73,
   "metadata": {},
   "outputs": [
    {
     "name": "stdout",
     "output_type": "stream",
     "text": [
      "              precision    recall  f1-score   support\n",
      "\n",
      "           0       0.77      0.90      0.83       209\n",
      "           1       0.62      0.36      0.46        91\n",
      "\n",
      "    accuracy                           0.74       300\n",
      "   macro avg       0.69      0.63      0.64       300\n",
      "weighted avg       0.72      0.74      0.72       300\n",
      "\n"
     ]
    }
   ],
   "source": [
    "print(metrics.classification_report(y_test, pred_y))"
   ]
  },
  {
   "cell_type": "code",
   "execution_count": 74,
   "metadata": {},
   "outputs": [
    {
     "data": {
      "text/plain": [
       "0.7553499132446501"
      ]
     },
     "execution_count": 74,
     "metadata": {},
     "output_type": "execute_result"
    }
   ],
   "source": [
    "auc = metrics.roc_auc_score(y_test, ada_model.predict_proba(X_test)[:,1])\n",
    "auc"
   ]
  },
  {
   "cell_type": "markdown",
   "metadata": {},
   "source": [
    "### Gradient Boosting"
   ]
  },
  {
   "cell_type": "code",
   "execution_count": 138,
   "metadata": {},
   "outputs": [],
   "source": [
    "## Importing Gradient Boosting classifier\n",
    "\n",
    "from sklearn.ensemble import GradientBoostingClassifier\n",
    "\n",
    "## Initializing Gradient Boosting with 500 estimators and max\n",
    "## depth as 10"
   ]
  },
  {
   "cell_type": "code",
   "execution_count": 149,
   "metadata": {},
   "outputs": [
    {
     "data": {
      "text/plain": [
       "GradientBoostingClassifier(max_depth=10, n_estimators=500, random_state=101)"
      ]
     },
     "execution_count": 149,
     "metadata": {},
     "output_type": "execute_result"
    }
   ],
   "source": [
    "model_gb = GradientBoostingClassifier(n_estimators=500, max_depth=10, random_state=101)\n",
    "\n",
    "## Fitting gradient boosting model to training set\n",
    "\n",
    "model_gb.fit(X_train, y_train)"
   ]
  },
  {
   "cell_type": "code",
   "execution_count": 150,
   "metadata": {},
   "outputs": [
    {
     "data": {
      "text/plain": [
       "0.7474104842525895"
      ]
     },
     "execution_count": 150,
     "metadata": {},
     "output_type": "execute_result"
    }
   ],
   "source": [
    "auc = metrics.roc_auc_score(y_test, model_gb.predict_proba(X_test)[:,1])\n",
    "auc"
   ]
  },
  {
   "cell_type": "markdown",
   "metadata": {},
   "source": [
    "### Grid Search CV"
   ]
  },
  {
   "cell_type": "code",
   "execution_count": 172,
   "metadata": {},
   "outputs": [
    {
     "data": {
      "text/plain": [
       "GridSearchCV(cv=10, estimator=GradientBoostingClassifier(random_state=101),\n",
       "             param_grid=[{'learning_rate': [0.01, 0.05, 0.1],\n",
       "                          'n_estimators': [100, 200, 400]}],\n",
       "             scoring='roc_auc')"
      ]
     },
     "execution_count": 172,
     "metadata": {},
     "output_type": "execute_result"
    }
   ],
   "source": [
    "from sklearn.model_selection import GridSearchCV\n",
    "\n",
    "param = [{'n_estimators': [100, 200, 400], 'learning_rate': [.01,.05,.1]}]\n",
    "\n",
    "model = GradientBoostingClassifier(random_state=101)\n",
    "\n",
    "modelCV = GridSearchCV(model, param, cv=10, scoring = 'roc_auc')\n",
    "\n",
    "modelCV.fit(X_train, y_train)"
   ]
  },
  {
   "cell_type": "code",
   "execution_count": 173,
   "metadata": {},
   "outputs": [
    {
     "data": {
      "text/plain": [
       "{'learning_rate': 0.05, 'n_estimators': 200}"
      ]
     },
     "execution_count": 173,
     "metadata": {},
     "output_type": "execute_result"
    }
   ],
   "source": [
    "modelCV.best_params_"
   ]
  },
  {
   "cell_type": "code",
   "execution_count": 174,
   "metadata": {},
   "outputs": [
    {
     "data": {
      "text/plain": [
       "0.7397752186588921"
      ]
     },
     "execution_count": 174,
     "metadata": {},
     "output_type": "execute_result"
    }
   ],
   "source": [
    "modelCV.best_score_"
   ]
  },
  {
   "cell_type": "markdown",
   "metadata": {},
   "source": [
    "### Performance Measures - Gradient Boosting"
   ]
  },
  {
   "cell_type": "code",
   "execution_count": 175,
   "metadata": {},
   "outputs": [],
   "source": [
    "pred_y = modelCV.predict(X_test)"
   ]
  },
  {
   "cell_type": "code",
   "execution_count": 176,
   "metadata": {},
   "outputs": [
    {
     "name": "stdout",
     "output_type": "stream",
     "text": [
      "[[187  22]\n",
      " [ 54  37]]\n"
     ]
    }
   ],
   "source": [
    "print(confusion_matrix(y_test,pred_y))"
   ]
  },
  {
   "cell_type": "code",
   "execution_count": 177,
   "metadata": {},
   "outputs": [
    {
     "name": "stdout",
     "output_type": "stream",
     "text": [
      "              precision    recall  f1-score   support\n",
      "\n",
      "           0       0.78      0.89      0.83       209\n",
      "           1       0.63      0.41      0.49        91\n",
      "\n",
      "    accuracy                           0.75       300\n",
      "   macro avg       0.70      0.65      0.66       300\n",
      "weighted avg       0.73      0.75      0.73       300\n",
      "\n"
     ]
    }
   ],
   "source": [
    "print(metrics.classification_report(y_test, pred_y))"
   ]
  },
  {
   "cell_type": "code",
   "execution_count": 178,
   "metadata": {},
   "outputs": [
    {
     "data": {
      "text/plain": [
       "0.7817445712182554"
      ]
     },
     "execution_count": 178,
     "metadata": {},
     "output_type": "execute_result"
    }
   ],
   "source": [
    "auc = metrics.roc_auc_score(y_test, modelCV.predict_proba(X_test)[:,1])\n",
    "auc"
   ]
  },
  {
   "cell_type": "code",
   "execution_count": null,
   "metadata": {},
   "outputs": [],
   "source": []
  }
 ],
 "metadata": {
  "kernelspec": {
   "display_name": "Python 3 (ipykernel)",
   "language": "python",
   "name": "python3"
  },
  "language_info": {
   "codemirror_mode": {
    "name": "ipython",
    "version": 3
   },
   "file_extension": ".py",
   "mimetype": "text/x-python",
   "name": "python",
   "nbconvert_exporter": "python",
   "pygments_lexer": "ipython3",
   "version": "3.11.4"
  }
 },
 "nbformat": 4,
 "nbformat_minor": 2
}
